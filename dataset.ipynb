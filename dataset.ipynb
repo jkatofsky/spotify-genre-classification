{
 "cells": [
  {
   "cell_type": "code",
   "execution_count": 4,
   "metadata": {},
   "outputs": [],
   "source": [
    "import pandas as pd\n",
    "from dotenv import load_dotenv\n",
    "import spotipy\n",
    "from spotipy.oauth2 import SpotifyClientCredentials"
   ]
  },
  {
   "cell_type": "code",
   "execution_count": 5,
   "metadata": {},
   "outputs": [],
   "source": [
    "load_dotenv(verbose=True)\n",
    "\n",
    "sp = spotipy.Spotify(auth_manager=SpotifyClientCredentials())"
   ]
  },
  {
   "cell_type": "code",
   "execution_count": 38,
   "metadata": {},
   "outputs": [],
   "source": [
    "def get_all_track_ids_from_albums_referenced_in_playlist(playlist_id: str) -> list:\n",
    "    playlist_to_album_ids = lambda results : [item['track']['album']['id'] for item in results['items']]\n",
    "\n",
    "    album_ids = []\n",
    "    results = sp.playlist_items(playlist_id=playlist_id)\n",
    "    album_ids.extend(playlist_to_album_ids(results))\n",
    "    while results['next']:\n",
    "        results = sp.next(results)\n",
    "        album_ids.extend(playlist_to_album_ids(results))\n",
    "\n",
    "    album_ids = list(set(album_ids))\n",
    "\n",
    "    print(f'{len(album_ids)} albums referenced in playlist')\n",
    "\n",
    "    # TODO: use the endpoint for multiple albums here?\n",
    "    track_ids = []\n",
    "    for album_id in album_ids:\n",
    "        track_ids.extend([item['id'] for item in sp.album_tracks(album_id=album_id)['items']])\n",
    "\n",
    "    print(f'{len(track_ids)} total tracks in those albums')\n",
    "\n",
    "    return track_ids"
   ]
  },
  {
   "cell_type": "code",
   "execution_count": 46,
   "metadata": {},
   "outputs": [],
   "source": [
    "def get_tracks_info_and_audio_features(track_ids: list) -> pd.DataFrame:\n",
    "\n",
    "    chunks = lambda list, size :  (list[i: i + size] for i in range(0, len(track_ids), size))\n",
    "\n",
    "    tracks = []\n",
    "    for track_ids_chunk in chunks(track_ids, 50):\n",
    "        tracks.extend(sp.tracks(track_ids_chunk)['tracks'])\n",
    "        \n",
    "    track_id_to_audio_features = dict()\n",
    "    for track_ids_chunk in chunks(track_ids, 100):\n",
    "        tracks_audio_features = sp.audio_features(track_ids_chunk)\n",
    "        track_id_to_audio_features.update(((track_audio_features['id'], track_audio_features) for track_audio_features in tracks_audio_features))\n",
    "\n",
    "    track_columns = ['id', 'name', 'artist', 'album', 'release_date', 'genre']\n",
    "    track_audio_features_columns = ['acousticness', 'danceability', 'duration_ms', 'energy',\n",
    "                        'instrumentalness', 'key', 'liveness', 'loudness', 'mode', 'speechiness',\n",
    "                        'tempo', 'time_signature', 'valence']\n",
    "\n",
    "    # TODO: suppport data for more than just the first-appearing artist and genre?\n",
    "    rows = []\n",
    "    for track in tracks:\n",
    "        artist_obj = track['artists'][0]\n",
    "        album_obj = track['album']\n",
    "\n",
    "        id = track['id']\n",
    "        name = track['name']\n",
    "        artist = artist_obj['name']\n",
    "        album = album_obj['name']\n",
    "        release_date = album_obj[\"release_date\"]\n",
    "\n",
    "        # TODO: this isn't gonna work! the artist object in these responses doens't include genres; going to have to use the artist endpoint and combine the data\n",
    "        genre = artist_obj['genres'][0] if ('genres' in artist_obj and len(artist_obj['genres'] != 0)) else ''\n",
    "\n",
    "        rows.append([id, name, artist, album, release_date, genre]\n",
    "                    + [track_id_to_audio_features[track['id']][audio_feature] for audio_feature in track_audio_features_columns])\n",
    "\n",
    "    return pd.DataFrame(rows, columns=track_columns+track_audio_features_columns)"
   ]
  },
  {
   "cell_type": "code",
   "execution_count": 11,
   "metadata": {},
   "outputs": [
    {
     "name": "stdout",
     "output_type": "stream",
     "text": [
      "75 albums referenced in playlist\n",
      "352 total tracks in those albums\n"
     ]
    }
   ],
   "source": [
    "SMALL_TESTER_PLAYLIST = '37i9dQZF1DWXT8uSSn6PRy'\n",
    "BIG_BOI_PLAYLIST = '37i9dQZF1DWTmvXBN4DgpA'\n",
    "\n",
    "track_ids = get_all_track_ids_from_albums_referenced_in_playlist(SMALL_TESTER_PLAYLIST)"
   ]
  },
  {
   "cell_type": "code",
   "execution_count": 47,
   "metadata": {},
   "outputs": [
    {
     "name": "stdout",
     "output_type": "stream",
     "text": [
      "{'album': {'album_type': 'single', 'artists': [{'external_urls': {'spotify': 'https://open.spotify.com/artist/26VFTg2z8YR0cCuwLzESi2'}, 'href': 'https://api.spotify.com/v1/artists/26VFTg2z8YR0cCuwLzESi2', 'id': '26VFTg2z8YR0cCuwLzESi2', 'name': 'Halsey', 'type': 'artist', 'uri': 'spotify:artist:26VFTg2z8YR0cCuwLzESi2'}], 'available_markets': ['AD', 'AE', 'AG', 'AL', 'AM', 'AO', 'AR', 'AT', 'AU', 'AZ', 'BA', 'BB', 'BD', 'BE', 'BF', 'BG', 'BH', 'BI', 'BJ', 'BN', 'BO', 'BR', 'BS', 'BT', 'BW', 'BZ', 'CA', 'CD', 'CG', 'CH', 'CI', 'CL', 'CM', 'CO', 'CR', 'CV', 'CW', 'CY', 'CZ', 'DE', 'DJ', 'DK', 'DM', 'DO', 'DZ', 'EC', 'EE', 'EG', 'ES', 'FI', 'FJ', 'FM', 'FR', 'GA', 'GB', 'GD', 'GE', 'GH', 'GM', 'GN', 'GQ', 'GR', 'GT', 'GW', 'GY', 'HK', 'HN', 'HR', 'HT', 'HU', 'ID', 'IE', 'IL', 'IN', 'IQ', 'IS', 'IT', 'JM', 'JO', 'JP', 'KE', 'KG', 'KH', 'KI', 'KM', 'KN', 'KR', 'KW', 'KZ', 'LA', 'LB', 'LC', 'LI', 'LK', 'LR', 'LS', 'LT', 'LU', 'LV', 'LY', 'MA', 'MC', 'MD', 'ME', 'MG', 'MH', 'MK', 'ML', 'MN', 'MO', 'MR', 'MT', 'MU', 'MV', 'MW', 'MX', 'MY', 'MZ', 'NA', 'NE', 'NG', 'NI', 'NL', 'NO', 'NP', 'NR', 'NZ', 'OM', 'PA', 'PE', 'PG', 'PH', 'PK', 'PL', 'PS', 'PT', 'PW', 'PY', 'QA', 'RO', 'RS', 'RW', 'SA', 'SB', 'SC', 'SE', 'SG', 'SI', 'SK', 'SL', 'SM', 'SN', 'SR', 'ST', 'SV', 'SZ', 'TD', 'TG', 'TH', 'TJ', 'TL', 'TN', 'TO', 'TR', 'TT', 'TV', 'TW', 'TZ', 'UA', 'UG', 'US', 'UY', 'UZ', 'VC', 'VE', 'VN', 'VU', 'WS', 'XK', 'ZA', 'ZM', 'ZW'], 'external_urls': {'spotify': 'https://open.spotify.com/album/2GCDQipR2hfrNzLC9FCwaf'}, 'href': 'https://api.spotify.com/v1/albums/2GCDQipR2hfrNzLC9FCwaf', 'id': '2GCDQipR2hfrNzLC9FCwaf', 'images': [{'height': 640, 'url': 'https://i.scdn.co/image/ab67616d0000b27339e6616a499bc092f469cae0', 'width': 640}, {'height': 300, 'url': 'https://i.scdn.co/image/ab67616d00001e0239e6616a499bc092f469cae0', 'width': 300}, {'height': 64, 'url': 'https://i.scdn.co/image/ab67616d0000485139e6616a499bc092f469cae0', 'width': 64}], 'name': 'So Good', 'release_date': '2022-06-09', 'release_date_precision': 'day', 'total_tracks': 1, 'type': 'album', 'uri': 'spotify:album:2GCDQipR2hfrNzLC9FCwaf'}, 'artists': [{'external_urls': {'spotify': 'https://open.spotify.com/artist/26VFTg2z8YR0cCuwLzESi2'}, 'href': 'https://api.spotify.com/v1/artists/26VFTg2z8YR0cCuwLzESi2', 'id': '26VFTg2z8YR0cCuwLzESi2', 'name': 'Halsey', 'type': 'artist', 'uri': 'spotify:artist:26VFTg2z8YR0cCuwLzESi2'}], 'available_markets': ['AD', 'AE', 'AG', 'AL', 'AM', 'AO', 'AR', 'AT', 'AU', 'AZ', 'BA', 'BB', 'BD', 'BE', 'BF', 'BG', 'BH', 'BI', 'BJ', 'BN', 'BO', 'BR', 'BS', 'BT', 'BW', 'BZ', 'CA', 'CD', 'CG', 'CH', 'CI', 'CL', 'CM', 'CO', 'CR', 'CV', 'CW', 'CY', 'CZ', 'DE', 'DJ', 'DK', 'DM', 'DO', 'DZ', 'EC', 'EE', 'EG', 'ES', 'FI', 'FJ', 'FM', 'FR', 'GA', 'GB', 'GD', 'GE', 'GH', 'GM', 'GN', 'GQ', 'GR', 'GT', 'GW', 'GY', 'HK', 'HN', 'HR', 'HT', 'HU', 'ID', 'IE', 'IL', 'IN', 'IQ', 'IS', 'IT', 'JM', 'JO', 'JP', 'KE', 'KG', 'KH', 'KI', 'KM', 'KN', 'KR', 'KW', 'KZ', 'LA', 'LB', 'LC', 'LI', 'LK', 'LR', 'LS', 'LT', 'LU', 'LV', 'LY', 'MA', 'MC', 'MD', 'ME', 'MG', 'MH', 'MK', 'ML', 'MN', 'MO', 'MR', 'MT', 'MU', 'MV', 'MW', 'MX', 'MY', 'MZ', 'NA', 'NE', 'NG', 'NI', 'NL', 'NO', 'NP', 'NR', 'NZ', 'OM', 'PA', 'PE', 'PG', 'PH', 'PK', 'PL', 'PS', 'PT', 'PW', 'PY', 'QA', 'RO', 'RS', 'RW', 'SA', 'SB', 'SC', 'SE', 'SG', 'SI', 'SK', 'SL', 'SM', 'SN', 'SR', 'ST', 'SV', 'SZ', 'TD', 'TG', 'TH', 'TJ', 'TL', 'TN', 'TO', 'TR', 'TT', 'TV', 'TW', 'TZ', 'UA', 'UG', 'US', 'UY', 'UZ', 'VC', 'VE', 'VN', 'VU', 'WS', 'XK', 'ZA', 'ZM', 'ZW'], 'disc_number': 1, 'duration_ms': 176058, 'explicit': False, 'external_ids': {'isrc': 'USUM72208998'}, 'external_urls': {'spotify': 'https://open.spotify.com/track/6kxaaIeowajN7w21PfMLbu'}, 'href': 'https://api.spotify.com/v1/tracks/6kxaaIeowajN7w21PfMLbu', 'id': '6kxaaIeowajN7w21PfMLbu', 'is_local': False, 'name': 'So Good', 'popularity': 79, 'preview_url': None, 'track_number': 1, 'type': 'track', 'uri': 'spotify:track:6kxaaIeowajN7w21PfMLbu'}\n",
      "None\n"
     ]
    }
   ],
   "source": [
    "dataset = get_tracks_info_and_audio_features(track_ids)\n",
    "print(dataset)"
   ]
  },
  {
   "cell_type": "code",
   "execution_count": 48,
   "metadata": {},
   "outputs": [
    {
     "data": {
      "text/plain": [
       "{'external_urls': {'spotify': 'https://open.spotify.com/artist/26VFTg2z8YR0cCuwLzESi2'},\n",
       " 'followers': {'href': None, 'total': 18469992},\n",
       " 'genres': ['dance pop', 'electropop', 'etherpop', 'indie poptimism', 'pop'],\n",
       " 'href': 'https://api.spotify.com/v1/artists/26VFTg2z8YR0cCuwLzESi2',\n",
       " 'id': '26VFTg2z8YR0cCuwLzESi2',\n",
       " 'images': [{'height': 640,\n",
       "   'url': 'https://i.scdn.co/image/ab6761610000e5ebd707e1c5177614c4ec95a06c',\n",
       "   'width': 640},\n",
       "  {'height': 320,\n",
       "   'url': 'https://i.scdn.co/image/ab67616100005174d707e1c5177614c4ec95a06c',\n",
       "   'width': 320},\n",
       "  {'height': 160,\n",
       "   'url': 'https://i.scdn.co/image/ab6761610000f178d707e1c5177614c4ec95a06c',\n",
       "   'width': 160}],\n",
       " 'name': 'Halsey',\n",
       " 'popularity': 83,\n",
       " 'type': 'artist',\n",
       " 'uri': 'spotify:artist:26VFTg2z8YR0cCuwLzESi2'}"
      ]
     },
     "execution_count": 48,
     "metadata": {},
     "output_type": "execute_result"
    }
   ],
   "source": [
    "sp.artist('26VFTg2z8YR0cCuwLzESi2')"
   ]
  }
 ],
 "metadata": {
  "kernelspec": {
   "display_name": "Python 3.9.1 64-bit",
   "language": "python",
   "name": "python3"
  },
  "language_info": {
   "codemirror_mode": {
    "name": "ipython",
    "version": 3
   },
   "file_extension": ".py",
   "mimetype": "text/x-python",
   "name": "python",
   "nbconvert_exporter": "python",
   "pygments_lexer": "ipython3",
   "version": "3.9.1"
  },
  "orig_nbformat": 4,
  "vscode": {
   "interpreter": {
    "hash": "aee8b7b246df8f9039afb4144a1f6fd8d2ca17a180786b69acc140d282b71a49"
   }
  }
 },
 "nbformat": 4,
 "nbformat_minor": 2
}
